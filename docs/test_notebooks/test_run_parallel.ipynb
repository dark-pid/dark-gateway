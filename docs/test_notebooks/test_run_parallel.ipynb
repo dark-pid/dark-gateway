{
 "cells": [
  {
   "cell_type": "code",
   "execution_count": 1,
   "metadata": {},
   "outputs": [],
   "source": [
    "import os\n",
    "import sys\n",
    "import configparser\n",
    "\n",
    "#add dark to path\n",
    "src_code_dir = os.sep.join(os.path.abspath('').split(os.sep)[:-2])+os.sep\n",
    "sys.path.insert(0,src_code_dir)\n",
    "\n",
    "from dark.gateway import DarkGateway\n",
    "from dark import DarkMap\n",
    "from dark import DarkPid\n",
    "from dark.decoder import DarkDecoder"
   ]
  },
  {
   "cell_type": "markdown",
   "metadata": {},
   "source": [
    "load blockchain drivers, parameters and configurations"
   ]
  },
  {
   "cell_type": "code",
   "execution_count": 2,
   "metadata": {},
   "outputs": [],
   "source": [
    "PROJECT_ROOT = 'D:\\\\workspace\\\\dark\\\\dark-env\\\\dARK\\\\'\n",
    "config_file = os.path.join(PROJECT_ROOT,'config.ini')\n",
    "#blockchain config\n",
    "bc_config = configparser.ConfigParser()\n",
    "bc_config.read(config_file)\n",
    "#deployed contracts config\n",
    "deployed_contracts_config = configparser.ConfigParser()\n",
    "a = deployed_contracts_config.read(os.path.join(PROJECT_ROOT,'deployed_contracts.ini'))\n",
    "\n"
   ]
  },
  {
   "cell_type": "markdown",
   "metadata": {},
   "source": [
    "configure the blockchain access"
   ]
  },
  {
   "cell_type": "code",
   "execution_count": 3,
   "metadata": {},
   "outputs": [],
   "source": [
    "# Load Blockchain Drivers to the dARK GateWay\n",
    "dgw =  DarkGateway(bc_config,deployed_contracts_config)\n",
    "# create a map to interact with the Blockchain Smart Contracts\n",
    "dm = DarkMap(dgw)\n",
    "\n",
    "account_priv_key = \"0xae6ae8e5ccbfb04590405997ee2d52d2b330726137b875053c36d94e974d162f\"\n"
   ]
  },
  {
   "cell_type": "code",
   "execution_count": 4,
   "metadata": {},
   "outputs": [
    {
     "data": {
      "text/plain": [
       "1344"
      ]
     },
     "execution_count": 4,
     "metadata": {},
     "output_type": "execute_result"
    }
   ],
   "source": [
    "import time\n",
    "dgw.w3.eth.blockNumber"
   ]
  },
  {
   "cell_type": "code",
   "execution_count": 5,
   "metadata": {},
   "outputs": [],
   "source": [
    "# time.time.sleep(0.2)\n",
    "# dgw.get_next_nonce(dgw.w3.toChecksumAddress(dgw.authority_addr))"
   ]
  },
  {
   "cell_type": "code",
   "execution_count": null,
   "metadata": {},
   "outputs": [],
   "source": []
  },
  {
   "cell_type": "code",
   "execution_count": 6,
   "metadata": {},
   "outputs": [],
   "source": [
    "# for i in range(5):\n",
    "#     print(dgw.get_next_nonce(dgw.authority_addr))\n",
    "\n",
    "# print('done')\n",
    "# time.sleep(5)\n",
    "\n",
    "# for i in range(5):\n",
    "#     print(dgw.get_next_nonce(dgw.authority_addr))"
   ]
  },
  {
   "cell_type": "markdown",
   "metadata": {},
   "source": []
  },
  {
   "cell_type": "code",
   "execution_count": null,
   "metadata": {},
   "outputs": [],
   "source": []
  },
  {
   "cell_type": "code",
   "execution_count": 9,
   "metadata": {},
   "outputs": [
    {
     "name": "stdout",
     "output_type": "stream",
     "text": [
      ">\n",
      "\t [limpei] 52\n",
      ">>\n",
      ">>>\n",
      "for\n",
      "0\n",
      "\t\t >\n",
      "\t [limpei] 53\n",
      "\t\t >>\n",
      "1\n",
      "\t\t >\n",
      "\t [!=] 54\n",
      "\t\t >>\n",
      "2\n",
      "\t\t >\n",
      "\t [!=] 55\n",
      "\t\t >>\n",
      "3\n",
      "\t\t >\n",
      "\t [!=] 56\n",
      "\t\t >>\n",
      "4\n",
      "\t\t >\n",
      "\t [!=] 57\n",
      "\t\t >>\n",
      "\t\t >\n",
      "\t [limpei] 58\n",
      "\t\t >>\n",
      "\t\t >\n",
      "\t [!=] 59\n",
      "\t\t >>\n",
      "\t\t >\n",
      "\t [!=] 60\n",
      "\t\t >>\n",
      "\t\t >\n",
      "\t [!=] 61\n",
      "\t\t >>\n",
      "\t\t >\n",
      "\t [!=] 62\n",
      "\t\t >>\n"
     ]
    }
   ],
   "source": [
    "a_pid = dm.sync_request_pid()\n",
    "pid_python_object = dm.get_pid_by_ark(a_pid)\n",
    "pid_hash = pid_python_object.to_dict()['pid_hash']\n",
    "pid_python_object.to_dict()\n",
    "\n",
    "txs_a = []\n",
    "txs_b = []\n",
    "\n",
    "print('for')\n",
    "\n",
    "for i in range(5):\n",
    "    print(i)\n",
    "    tx_set2 = dm.async_set_url(pid_hash,'http://www.uol.com.a' + str(i))\n",
    "    txs_a.append(tx_set2)\n",
    "    # tx_status, tx_recipt = dgw.transaction_was_executed(tx_set2)\n",
    "\n",
    "time.sleep(4)\n",
    "\n",
    "for i in range(5):\n",
    "    tx_set2 = dm.async_set_url(pid_hash,'http://www.uol.com.b' + str(i))\n",
    "    txs_b.append(tx_set2)\n"
   ]
  },
  {
   "cell_type": "code",
   "execution_count": 10,
   "metadata": {},
   "outputs": [
    {
     "data": {
      "text/plain": [
       "{'pid_hash': HexBytes('0xe3f5bf11bf1334cb4e3360e3bb10a8894cd13590e42ba033bd87d83eedc6e028'),\n",
       " 'ark': '8033/fkwff300000000000np',\n",
       " 'external_pid_list': [],\n",
       " 'external_url': 'HTTP://WWW.UOL.COM.B4',\n",
       " 'payload': '',\n",
       " 'responsible': '0xf17f52151EbEF6C7334FAD080c5704D77216b732'}"
      ]
     },
     "execution_count": 10,
     "metadata": {},
     "output_type": "execute_result"
    }
   ],
   "source": [
    "dm.get_pid_by_ark(a_pid).to_dict()"
   ]
  },
  {
   "cell_type": "code",
   "execution_count": 12,
   "metadata": {},
   "outputs": [
    {
     "data": {
      "text/plain": [
       "([HexBytes('0xf5e1a080b1a2d311e0dd4f5db83b2db313234562868763682e6aa57a7aaff9d6'),\n",
       "  HexBytes('0x550fe9543a5e9aad750c6b1cf1da2e5bf04fd223466205a4f341c115c7323841'),\n",
       "  HexBytes('0xf09fa71c4f09c4a0d30174a203fbf997bcb60b0e84676cbeb2689d2ec95bff3a'),\n",
       "  HexBytes('0xb05ee331c68d404ce0cf471b5834d86b3b6a33505b1e4436e2433af1ef189a51'),\n",
       "  HexBytes('0x7b06795241826d812b3c25bf0ee0c4607f2df28faf229b3ded75ca4e3dcda01b')],\n",
       " [HexBytes('0xf6ceb650912ac4877c4c21673bfb28cdbf990aab3fc584407758ff43cf211757'),\n",
       "  HexBytes('0x98294afbf389a6f0ad55ad7b975f7bade0db47a4a29aa53b1e690d43bb1df6d0'),\n",
       "  HexBytes('0x62138b329502326996dbe9f01e446231a79070a39221d17c20a8dde6bfa6711d'),\n",
       "  HexBytes('0xd3142a3fd11c65e77314c909e631c2fa3df038eb7fe2917fdcd221c98b743850'),\n",
       "  HexBytes('0x4d05c3abf3442d6c76b3d90913f5eb893c94c2ddb3118c4822106571d9e6be53')])"
      ]
     },
     "execution_count": 12,
     "metadata": {},
     "output_type": "execute_result"
    }
   ],
   "source": [
    "txs_a,txs_b"
   ]
  },
  {
   "cell_type": "code",
   "execution_count": 13,
   "metadata": {},
   "outputs": [
    {
     "name": "stdout",
     "output_type": "stream",
     "text": [
      "0\n",
      "\t [limpei] 63\n",
      "1\n",
      "\t [!=] 64\n",
      "2\n",
      "\t [!=] 65\n",
      "3\n",
      "\t [!=] 66\n",
      "4\n",
      "\t [!=] 67\n",
      "5\n",
      "\t [!=] 68\n",
      "6\n",
      "\t [!=] 69\n",
      "7\n",
      "\t [!=] 70\n",
      "8\n",
      "\t [!=] 71\n",
      "9\n",
      "\t [!=] 72\n"
     ]
    }
   ],
   "source": [
    "for i in range(10):\n",
    "    print(i)\n",
    "    tx_set2 = dm.async_set_external_pid(pid_hash,'pid_a' + str(i))\n",
    "    txs_a.append(tx_set2)\n",
    "    # tx_status, tx_recipt = dgw.transaction_was_executed(tx_set2)"
   ]
  },
  {
   "cell_type": "code",
   "execution_count": 14,
   "metadata": {},
   "outputs": [
    {
     "data": {
      "text/plain": [
       "{'pid_hash': HexBytes('0xe3f5bf11bf1334cb4e3360e3bb10a8894cd13590e42ba033bd87d83eedc6e028'),\n",
       " 'ark': '8033/fkwff300000000000np',\n",
       " 'external_pid_list': [{'hash_id': '0x2b3ff595513b2ff1486e9f9c2502724800920d536e2c4b8d7ca58ad182e5806a',\n",
       "   'value': 'PID_A0',\n",
       "   'owner:': '0xf17f52151EbEF6C7334FAD080c5704D77216b732'},\n",
       "  {'hash_id': '0x89a696e0ee357a9bdeb38a6efd6943f7d2e20de4859a46523d87c6badde54d9d',\n",
       "   'value': 'PID_A1',\n",
       "   'owner:': '0xf17f52151EbEF6C7334FAD080c5704D77216b732'},\n",
       "  {'hash_id': '0xb5213a0779997335422a2d13d56ba49f0ddb761f942e1f430690d6681f1010e6',\n",
       "   'value': 'PID_A2',\n",
       "   'owner:': '0xf17f52151EbEF6C7334FAD080c5704D77216b732'},\n",
       "  {'hash_id': '0x6333035ad3e78d4cdf56d0f4f0578641029333314498eec8a2eff2640835e664',\n",
       "   'value': 'PID_A3',\n",
       "   'owner:': '0xf17f52151EbEF6C7334FAD080c5704D77216b732'},\n",
       "  {'hash_id': '0x7fd0ddc1e67e36951703fd381b9b2150db4b1754c8eb52c8f7f1bec926b9f1c4',\n",
       "   'value': 'PID_A4',\n",
       "   'owner:': '0xf17f52151EbEF6C7334FAD080c5704D77216b732'},\n",
       "  {'hash_id': '0x8a4fa9671d415d274c2aca0812b9eaedc337901390222241e0031840ea1d98a0',\n",
       "   'value': 'PID_A5',\n",
       "   'owner:': '0xf17f52151EbEF6C7334FAD080c5704D77216b732'},\n",
       "  {'hash_id': '0x616c5f77fda69ab2a5d532c8ccf8e3bcf58f00ff1d640bd4825604941f61e649',\n",
       "   'value': 'PID_A6',\n",
       "   'owner:': '0xf17f52151EbEF6C7334FAD080c5704D77216b732'},\n",
       "  {'hash_id': '0x1b80cd3026d6b46920a57b8839a3f3b64050c237bb76e97e333d6bc68d26f629',\n",
       "   'value': 'PID_A7',\n",
       "   'owner:': '0xf17f52151EbEF6C7334FAD080c5704D77216b732'},\n",
       "  {'hash_id': '0x786d7894292666bee367867390f5471dada4ed6c3ff63ff22b8b69904c68f8c9',\n",
       "   'value': 'PID_A8',\n",
       "   'owner:': '0xf17f52151EbEF6C7334FAD080c5704D77216b732'},\n",
       "  {'hash_id': '0x9fbc90235b385f1e2bbdea8e4a1b13f643c9ad12a98b475690fe0f97abb096da',\n",
       "   'value': 'PID_A9',\n",
       "   'owner:': '0xf17f52151EbEF6C7334FAD080c5704D77216b732'}],\n",
       " 'external_url': 'HTTP://WWW.UOL.COM.B4',\n",
       " 'payload': '',\n",
       " 'responsible': '0xf17f52151EbEF6C7334FAD080c5704D77216b732'}"
      ]
     },
     "execution_count": 14,
     "metadata": {},
     "output_type": "execute_result"
    }
   ],
   "source": [
    "dm.get_pid_by_ark(a_pid).to_dict()"
   ]
  },
  {
   "cell_type": "code",
   "execution_count": null,
   "metadata": {},
   "outputs": [],
   "source": []
  }
 ],
 "metadata": {
  "kernelspec": {
   "display_name": ".venv",
   "language": "python",
   "name": "python3"
  },
  "language_info": {
   "codemirror_mode": {
    "name": "ipython",
    "version": 3
   },
   "file_extension": ".py",
   "mimetype": "text/x-python",
   "name": "python",
   "nbconvert_exporter": "python",
   "pygments_lexer": "ipython3",
   "version": "3.10.10"
  },
  "orig_nbformat": 4
 },
 "nbformat": 4,
 "nbformat_minor": 2
}
