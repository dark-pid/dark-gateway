{
 "cells": [
  {
   "cell_type": "code",
   "execution_count": 1,
   "metadata": {},
   "outputs": [],
   "source": [
    "import os\n",
    "import sys\n",
    "import configparser\n",
    "\n",
    "import pandas as pd\n",
    "\n",
    "#add dark to path\n",
    "src_code_dir = os.sep.join(os.path.abspath('').split(os.sep)[:-2])+os.sep\n",
    "sys.path.insert(0,src_code_dir)\n",
    "\n",
    "from dark.gateway import DarkGateway\n",
    "from dark import DarkMap\n",
    "from dark import DarkPid\n",
    "from dark.decoder import DarkDecoder"
   ]
  },
  {
   "cell_type": "markdown",
   "metadata": {},
   "source": [
    "load blockchain drivers, parameters and configurations"
   ]
  },
  {
   "cell_type": "code",
   "execution_count": 2,
   "metadata": {},
   "outputs": [],
   "source": [
    "PROJECT_ROOT = 'D:\\\\workspace\\\\dark\\\\dark-env\\\\dARK\\\\'\n",
    "config_file = os.path.join(PROJECT_ROOT,'config.ini')\n",
    "#blockchain config\n",
    "bc_config = configparser.ConfigParser()\n",
    "bc_config.read(config_file)\n",
    "#deployed contracts config\n",
    "deployed_contracts_config = configparser.ConfigParser()\n",
    "a = deployed_contracts_config.read(os.path.join(PROJECT_ROOT,'deployed_contracts.ini'))\n",
    "\n"
   ]
  },
  {
   "cell_type": "markdown",
   "metadata": {},
   "source": [
    "path to data"
   ]
  },
  {
   "cell_type": "code",
   "execution_count": 3,
   "metadata": {},
   "outputs": [],
   "source": [
    "DATA_PATH = 'D:\\\\workspace\\\\dark\\\\data\\\\'\n",
    "df=pd.read_json(DATA_PATH+'pb-data.json')"
   ]
  },
  {
   "cell_type": "markdown",
   "metadata": {},
   "source": [
    "configure the blockchain access"
   ]
  },
  {
   "cell_type": "code",
   "execution_count": 4,
   "metadata": {},
   "outputs": [],
   "source": [
    "# Load Blockchain Drivers to the dARK GateWay\n",
    "dgw =  DarkGateway(bc_config,deployed_contracts_config)\n",
    "# create a map to interact with the Blockchain Smart Contracts\n",
    "dm = DarkMap(dgw)"
   ]
  },
  {
   "cell_type": "code",
   "execution_count": 8,
   "metadata": {},
   "outputs": [],
   "source": []
  },
  {
   "cell_type": "code",
   "execution_count": 10,
   "metadata": {},
   "outputs": [],
   "source": [
    "def get_pids(input_df,dark_map):\n",
    "\n",
    "    oasis_dark_map = {}\n",
    "\n",
    "    for index, row in input_df.iterrows():\n",
    "\n",
    "        oasis_id = row['id']\n",
    "        oai_id   = row['oai_identifier_str']\n",
    "        title    = row.get('title')\n",
    "        tipo     = row.get('format')\n",
    "        url      = row.get('url')\n",
    "        # print(index)\n",
    "        # request, resp_time = measure_response_time(cc.request_pid)\n",
    "        # request, resp_time, amount = measure_tx_params(dark_gw,cc.request_pid)\n",
    "        try:\n",
    "            ark = dark_map.sync_request_pid()\n",
    "            status = 'ok'\n",
    "        except KeyError:\n",
    "            ark = '-'\n",
    "            status = 'error'\n",
    "    \n",
    "    \n",
    "        # oasis_dark_map[oasis_id] = {'dark' : ark, 'status' :  status , 'exec_time' : resp_time , 'amount' : amount , 'action' : 'assign_pid'}\n",
    "        oasis_dark_map[oasis_id] = {'dark' : ark, 'status' :  status , 'action' : 'assign_pid'}\n",
    "\n",
    "    return oasis_dark_map"
   ]
  },
  {
   "cell_type": "code",
   "execution_count": 12,
   "metadata": {},
   "outputs": [],
   "source": [
    "def call_pid_method(cmd,input_df,pid_map,dark_map):\n",
    "\n",
    "    # dark_gw = getDarkGateway()\n",
    "    # cc = HyperDriveClient()\n",
    "    # cr_client = CrossrefClient()\n",
    "\n",
    "    action_map = {}\n",
    "    \n",
    "    for index, row in input_df.iterrows():\n",
    "\n",
    "        oasis_id = row['id']\n",
    "        oai_id   = row['oai_identifier_str']\n",
    "        title    = row.get('title')\n",
    "        tipo     = row.get('format')\n",
    "        url      = row.get('url')\n",
    "        pdate    = row.get('publishDate')\n",
    "        lang     = row.get('language')\n",
    "        authors  = row.get('author')\n",
    "        \n",
    "        exec_flag = True\n",
    "\n",
    "\n",
    "        dark_pid = pid_map[oasis_id]['dark']\n",
    "        pid_python_object = dm.get_pid_by_ark(dark_pid)\n",
    "        pid_hash = pid_python_object.to_dict()['pid_hash']\n",
    "\n",
    "        if cmd == 'add_url':\n",
    "            tx = dark_map.async_set_url(pid_hash,url)\n",
    "            # request, resp_time, amount = measure_tx_params(dark_gw,call_func,dark_pid,url)\n",
    "        elif cmd == 'add_external_pid':\n",
    "            pass\n",
    "            # if tipo == 'article':\n",
    "            #     doi = cr_client.get_doi_by_title(title)\n",
    "            #     if doi != None:\n",
    "            #         doi = 'doi:/' + doi\n",
    "            #         request, resp_time, amount = measure_tx_params(dark_gw,call_func,dark_pid,doi)\n",
    "            #     else:\n",
    "            #         exec_flag = False\n",
    "            # else:\n",
    "            #     exec_flag = False\n",
    "\n",
    "        elif cmd == 'set_payload':\n",
    "            payload_data = '{' + f'title : {title}, authors : {authors}, publish_data: {pdate}, oai: {oai_id} , language: {lang}' + '}'\n",
    "            tx = dark_map.async_set_payload(pid_hash,payload_data)\n",
    "            # request, resp_time, amount = measure_tx_params(dark_gw,call_func,dark_pid,payload_data)\n",
    "            \n",
    "\n",
    "        \n",
    "        # if exec_flag == True:\n",
    "        #     # print(request[2])\n",
    "        #     if request[2].status_code == 200:\n",
    "        #         status = 'ok'\n",
    "        #     else:\n",
    "        #         status = 'error'\n",
    "        #     #\n",
    "        # action_map[oasis_id] = {'dark' : dark_pid, 'status' :  status , 'exec_time' : resp_time , 'amount' : amount , 'action' : cmd}\n",
    "        action_map[oasis_id] = {'dark' : dark_pid, 'status' :  '-' ,  'tx' : tx , 'action' : cmd}\n",
    "    \n",
    "        \n",
    "\n",
    "    return action_map"
   ]
  },
  {
   "cell_type": "code",
   "execution_count": 39,
   "metadata": {},
   "outputs": [
    {
     "data": {
      "text/plain": [
       "47820"
      ]
     },
     "execution_count": 39,
     "metadata": {},
     "output_type": "execute_result"
    }
   ],
   "source": [
    "len(df)\n",
    "data = df.sample(100)"
   ]
  },
  {
   "cell_type": "code",
   "execution_count": 11,
   "metadata": {},
   "outputs": [],
   "source": [
    "pid_map = get_pids(data,dm)"
   ]
  },
  {
   "cell_type": "code",
   "execution_count": 14,
   "metadata": {},
   "outputs": [],
   "source": [
    "urls_txs = call_pid_method('add_url',data,pid_map,dm)"
   ]
  },
  {
   "cell_type": "code",
   "execution_count": 15,
   "metadata": {},
   "outputs": [],
   "source": [
    "payload_txs = call_pid_method('set_payload',data,pid_map,dm)"
   ]
  },
  {
   "cell_type": "markdown",
   "metadata": {},
   "source": [
    "## Recuperando um pid aleatorio"
   ]
  },
  {
   "cell_type": "code",
   "execution_count": 38,
   "metadata": {},
   "outputs": [
    {
     "data": {
      "text/plain": [
       "{'pid_hash': HexBytes('0xb31a660b46f0be0ff10fef91cb24d3f5ecf5843463a88c4ef24a69d0ba601862'),\n",
       " 'ark': '8033/fkwff300000000003pr',\n",
       " 'external_pid_list': [],\n",
       " 'external_url': 'HTTPS://REPOSITORIO.UFPB.BR/JSPUI/HANDLE/123456789/22498',\n",
       " 'payload': '{title : Farofa social: a organização social do complexo turístico em Barra Grande-PI à luz dos afetos da prática da gourmetização, authors : Olivindo, Celina Maria de Souza, publish_data: 2021, oai: oai:repositorio.ufpb.br:123456789/22498 , language: por}',\n",
       " 'responsible': '0xf17f52151EbEF6C7334FAD080c5704D77216b732'}"
      ]
     },
     "execution_count": 38,
     "metadata": {},
     "output_type": "execute_result"
    }
   ],
   "source": [
    "import random\n",
    "\n",
    "index = random.randint(0,len(data))\n",
    "qdark = pid_map[list(pid_map.keys())[index]]['dark']\n",
    "dm.get_pid_by_ark(qdark).to_dict()"
   ]
  },
  {
   "cell_type": "markdown",
   "metadata": {},
   "source": [
    "## Old"
   ]
  },
  {
   "cell_type": "code",
   "execution_count": null,
   "metadata": {},
   "outputs": [],
   "source": [
    "a_pid = dm.sync_request_pid()\n",
    "pid_python_object = dm.get_pid_by_ark(a_pid)\n",
    "pid_hash = pid_python_object.to_dict()['pid_hash']\n",
    "pid_python_object.to_dict()\n",
    "\n",
    "txs_a = []\n",
    "txs_b = []\n",
    "\n",
    "print('for')\n",
    "\n",
    "for i in range(5):\n",
    "    print(i)\n",
    "    tx_set2 = dm.async_set_url(pid_hash,'http://www.uol.com.a' + str(i))\n",
    "    txs_a.append(tx_set2)\n",
    "    # tx_status, tx_recipt = dgw.transaction_was_executed(tx_set2)\n",
    "\n",
    "time.sleep(4)\n",
    "\n",
    "for i in range(5):\n",
    "    tx_set2 = dm.async_set_url(pid_hash,'http://www.uol.com.b' + str(i))\n",
    "    txs_b.append(tx_set2)\n"
   ]
  },
  {
   "cell_type": "code",
   "execution_count": null,
   "metadata": {},
   "outputs": [],
   "source": [
    "dm.get_pid_by_ark(a_pid).to_dict()"
   ]
  },
  {
   "cell_type": "code",
   "execution_count": null,
   "metadata": {},
   "outputs": [],
   "source": [
    "txs_a,txs_b"
   ]
  },
  {
   "cell_type": "code",
   "execution_count": null,
   "metadata": {},
   "outputs": [],
   "source": [
    "for i in range(10):\n",
    "    print(i)\n",
    "    tx_set2 = dm.async_set_external_pid(pid_hash,'pid_a' + str(i))\n",
    "    txs_a.append(tx_set2)\n",
    "    # tx_status, tx_recipt = dgw.transaction_was_executed(tx_set2)"
   ]
  },
  {
   "cell_type": "code",
   "execution_count": null,
   "metadata": {},
   "outputs": [],
   "source": [
    "dm.get_pid_by_ark(a_pid).to_dict()"
   ]
  },
  {
   "cell_type": "code",
   "execution_count": null,
   "metadata": {},
   "outputs": [],
   "source": []
  }
 ],
 "metadata": {
  "kernelspec": {
   "display_name": ".venv",
   "language": "python",
   "name": "python3"
  },
  "language_info": {
   "codemirror_mode": {
    "name": "ipython",
    "version": 3
   },
   "file_extension": ".py",
   "mimetype": "text/x-python",
   "name": "python",
   "nbconvert_exporter": "python",
   "pygments_lexer": "ipython3",
   "version": "3.10.10"
  },
  "orig_nbformat": 4
 },
 "nbformat": 4,
 "nbformat_minor": 2
}
