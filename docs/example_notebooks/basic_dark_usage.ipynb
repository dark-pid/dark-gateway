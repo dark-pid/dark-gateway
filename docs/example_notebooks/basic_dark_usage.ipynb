{
 "cells": [
  {
   "cell_type": "code",
   "execution_count": 1,
   "metadata": {},
   "outputs": [],
   "source": [
    "import os\n",
    "import sys\n",
    "import configparser\n",
    "\n",
    "#add dark to path\n",
    "src_code_dir = os.sep.join(os.path.abspath('').split(os.sep)[:-2])+os.sep\n",
    "sys.path.insert(0,src_code_dir)\n",
    "\n",
    "from dark.gateway import DarkGateway\n",
    "from dark import DarkMap\n",
    "from dark import DarkPid\n",
    "from dark.decoder import DarkDecoder"
   ]
  },
  {
   "cell_type": "markdown",
   "metadata": {},
   "source": [
    "load blockchain drivers, parameters and configurations"
   ]
  },
  {
   "cell_type": "code",
   "execution_count": 2,
   "metadata": {},
   "outputs": [
    {
     "data": {
      "text/plain": [
       "['D:\\\\workspace\\\\dark\\\\dARK\\\\deployed_contracts.ini']"
      ]
     },
     "execution_count": 2,
     "metadata": {},
     "output_type": "execute_result"
    }
   ],
   "source": [
    "PROJECT_ROOT = 'D:\\\\workspace\\\\dark\\\\dARK\\\\'\n",
    "config_file = os.path.join(PROJECT_ROOT,'config.ini')\n",
    "#blockchain config\n",
    "bc_config = configparser.ConfigParser()\n",
    "bc_config.read(config_file)\n",
    "#deployed contracts config\n",
    "deployed_contracts_config = configparser.ConfigParser()\n",
    "deployed_contracts_config.read(os.path.join(PROJECT_ROOT,'deployed_contracts.ini'))\n"
   ]
  },
  {
   "cell_type": "markdown",
   "metadata": {},
   "source": [
    "configure the blockchain access"
   ]
  },
  {
   "cell_type": "code",
   "execution_count": 3,
   "metadata": {},
   "outputs": [],
   "source": [
    "# Load Blockchain Drivers to the dARK GateWay\n",
    "dgw =  DarkGateway(bc_config,deployed_contracts_config)\n",
    "# create a map to interact with the Blockchain Smart Contracts\n",
    "dm = DarkMap(dgw)"
   ]
  },
  {
   "cell_type": "markdown",
   "metadata": {},
   "source": [
    "# Dark Blockchain Method Invocation"
   ]
  },
  {
   "cell_type": "markdown",
   "metadata": {},
   "source": [
    "## Sync Example"
   ]
  },
  {
   "cell_type": "markdown",
   "metadata": {},
   "source": [
    "requesting a pid"
   ]
  },
  {
   "cell_type": "code",
   "execution_count": 4,
   "metadata": {},
   "outputs": [
    {
     "data": {
      "text/plain": [
       "'8033/fkwff3000000000001d'"
      ]
     },
     "execution_count": 4,
     "metadata": {},
     "output_type": "execute_result"
    }
   ],
   "source": [
    "a_pid = dm.sync_request_pid()\n",
    "a_pid"
   ]
  },
  {
   "cell_type": "markdown",
   "metadata": {},
   "source": [
    "retrieving a pid"
   ]
  },
  {
   "cell_type": "code",
   "execution_count": 5,
   "metadata": {},
   "outputs": [
    {
     "data": {
      "text/plain": [
       "{'pid_hash': HexBytes('0xd88e186094228d2b95fe5bd27550829fea8d4614e5ec821317fa97a5cbf4ba56'),\n",
       " 'ark': '8033/fkwff3000000000001d',\n",
       " 'externa_pid_list': [],\n",
       " 'externa_url_list': [],\n",
       " 'payload': '',\n",
       " 'responsible': '0xf17f52151EbEF6C7334FAD080c5704D77216b732'}"
      ]
     },
     "execution_count": 5,
     "metadata": {},
     "output_type": "execute_result"
    }
   ],
   "source": [
    "pid_python_object = dm.get_pid_by_ark(a_pid)\n",
    "pid_python_object.to_dict()"
   ]
  },
  {
   "cell_type": "markdown",
   "metadata": {},
   "source": [
    "## Assync Example"
   ]
  },
  {
   "cell_type": "markdown",
   "metadata": {},
   "source": [
    "pid request"
   ]
  },
  {
   "cell_type": "markdown",
   "metadata": {},
   "source": [
    "set"
   ]
  },
  {
   "cell_type": "code",
   "execution_count": 6,
   "metadata": {},
   "outputs": [
    {
     "data": {
      "text/plain": [
       "HexBytes('0xd88e186094228d2b95fe5bd27550829fea8d4614e5ec821317fa97a5cbf4ba56')"
      ]
     },
     "execution_count": 6,
     "metadata": {},
     "output_type": "execute_result"
    }
   ],
   "source": [
    "#retrieve the pid_hash\n",
    "pid_hash = pid_python_object.pid_hash\n",
    "pid_hash"
   ]
  },
  {
   "cell_type": "code",
   "execution_count": 7,
   "metadata": {},
   "outputs": [
    {
     "name": "stdout",
     "output_type": "stream",
     "text": [
      "8033/fkwff3000000000001d 8033/fkwff3000000000001d\n"
     ]
    }
   ],
   "source": [
    "#retive a ARK id from a pid_hash\n",
    "ark_to_search = dm.convert_pid_hash_to_ark(pid_hash)\n",
    "#notice that is the same of the original pid\n",
    "print(a_pid,ark_to_search)"
   ]
  },
  {
   "cell_type": "code",
   "execution_count": 8,
   "metadata": {},
   "outputs": [
    {
     "data": {
      "text/plain": [
       "False"
      ]
     },
     "execution_count": 8,
     "metadata": {},
     "output_type": "execute_result"
    }
   ],
   "source": [
    "tx_set1 = dm.async_set_external_pid(pid_hash,'10.1016/j.is.2021.101826')\n",
    "tx_status, tx_recipt = dgw.transaction_was_executed(tx_set1)\n",
    "tx_status"
   ]
  },
  {
   "cell_type": "code",
   "execution_count": 11,
   "metadata": {},
   "outputs": [
    {
     "data": {
      "text/plain": [
       "True"
      ]
     },
     "execution_count": 11,
     "metadata": {},
     "output_type": "execute_result"
    }
   ],
   "source": [
    "tx_status, tx_recipt = dgw.transaction_was_executed(tx_set1)\n",
    "tx_status"
   ]
  },
  {
   "cell_type": "code",
   "execution_count": 12,
   "metadata": {},
   "outputs": [
    {
     "data": {
      "text/plain": [
       "{'pid_hash': HexBytes('0xd88e186094228d2b95fe5bd27550829fea8d4614e5ec821317fa97a5cbf4ba56'),\n",
       " 'ark': '8033/fkwff3000000000001d',\n",
       " 'externa_pid_list': [{'id': '0x6cd32058785840306ddaaf126d57999315739722ce57131dde41aa3690a8afdd',\n",
       "   'schema:': 'GEN',\n",
       "   'value': '10.1016/J.IS.2021.101826',\n",
       "   'owner:': '0xf17f52151EbEF6C7334FAD080c5704D77216b732'}],\n",
       " 'externa_url_list': [],\n",
       " 'payload': '',\n",
       " 'responsible': '0xf17f52151EbEF6C7334FAD080c5704D77216b732'}"
      ]
     },
     "execution_count": 12,
     "metadata": {},
     "output_type": "execute_result"
    }
   ],
   "source": [
    "pid_python_object_1 = dm.get_pid_by_ark(ark_to_search).to_dict()\n",
    "# notice that there is a new PID\n",
    "pid_python_object_1"
   ]
  },
  {
   "cell_type": "code",
   "execution_count": 13,
   "metadata": {},
   "outputs": [
    {
     "data": {
      "text/plain": [
       "False"
      ]
     },
     "execution_count": 13,
     "metadata": {},
     "output_type": "execute_result"
    }
   ],
   "source": [
    "tx_set2 = dm.async_add_external_links(pid_hash,'http://www.uol.com')\n",
    "tx_status, tx_recipt = dgw.transaction_was_executed(tx_set2)\n",
    "tx_status"
   ]
  },
  {
   "cell_type": "code",
   "execution_count": 14,
   "metadata": {},
   "outputs": [
    {
     "data": {
      "text/plain": [
       "True"
      ]
     },
     "execution_count": 14,
     "metadata": {},
     "output_type": "execute_result"
    }
   ],
   "source": [
    "tx_status, tx_recipt = dgw.transaction_was_executed(tx_set2)\n",
    "tx_status"
   ]
  },
  {
   "cell_type": "code",
   "execution_count": 15,
   "metadata": {},
   "outputs": [
    {
     "data": {
      "text/plain": [
       "{'pid_hash': HexBytes('0xd88e186094228d2b95fe5bd27550829fea8d4614e5ec821317fa97a5cbf4ba56'),\n",
       " 'ark': '8033/fkwff3000000000001d',\n",
       " 'externa_pid_list': [{'id': '0x6cd32058785840306ddaaf126d57999315739722ce57131dde41aa3690a8afdd',\n",
       "   'schema:': 'GEN',\n",
       "   'value': '10.1016/J.IS.2021.101826',\n",
       "   'owner:': '0xf17f52151EbEF6C7334FAD080c5704D77216b732'}],\n",
       " 'externa_url_list': ['http://www.uol.com'],\n",
       " 'payload': '',\n",
       " 'responsible': '0xf17f52151EbEF6C7334FAD080c5704D77216b732'}"
      ]
     },
     "execution_count": 15,
     "metadata": {},
     "output_type": "execute_result"
    }
   ],
   "source": [
    "pid_python_object_2 = dm.get_pid_by_ark(a_pid).to_dict()\n",
    "# notice that there is a new PID\n",
    "pid_python_object_2"
   ]
  },
  {
   "cell_type": "code",
   "execution_count": 16,
   "metadata": {},
   "outputs": [],
   "source": [
    "payload_data = { 'title' : 'Blockchain-based Privacy-Preserving Record Linkage: enhancing data privacy in an untrusted environment.' ,\n",
    "                 'author' : 'Thiago Nóbrega',\n",
    "                 'type' : 'Article'\n",
    "            }\n",
    "\n",
    "tx_set3 = dm.async_set_payload(pid_hash,payload_data)"
   ]
  },
  {
   "cell_type": "code",
   "execution_count": 17,
   "metadata": {},
   "outputs": [
    {
     "data": {
      "text/plain": [
       "True"
      ]
     },
     "execution_count": 17,
     "metadata": {},
     "output_type": "execute_result"
    }
   ],
   "source": [
    "tx_status, tx_recipt = dgw.transaction_was_executed(tx_set3)\n",
    "tx_status"
   ]
  },
  {
   "cell_type": "code",
   "execution_count": 19,
   "metadata": {},
   "outputs": [
    {
     "data": {
      "text/plain": [
       "{'pid_hash': HexBytes('0xd88e186094228d2b95fe5bd27550829fea8d4614e5ec821317fa97a5cbf4ba56'),\n",
       " 'ark': '8033/fkwff3000000000001d',\n",
       " 'externa_pid_list': [{'id': '0x6cd32058785840306ddaaf126d57999315739722ce57131dde41aa3690a8afdd',\n",
       "   'schema:': 'GEN',\n",
       "   'value': '10.1016/J.IS.2021.101826',\n",
       "   'owner:': '0xf17f52151EbEF6C7334FAD080c5704D77216b732'}],\n",
       " 'externa_url_list': ['http://www.uol.com'],\n",
       " 'payload': \"{'title': 'Blockchain-based Privacy-Preserving Record Linkage: enhancing data privacy in an untrusted environment.', 'author': 'Thiago Nóbrega', 'type': 'Article'}\",\n",
       " 'responsible': '0xf17f52151EbEF6C7334FAD080c5704D77216b732'}"
      ]
     },
     "execution_count": 19,
     "metadata": {},
     "output_type": "execute_result"
    }
   ],
   "source": [
    "pid_python_object_3 = dm.get_pid_by_ark(a_pid).to_dict()\n",
    "# notice that there is a new PID\n",
    "pid_python_object_3"
   ]
  },
  {
   "cell_type": "markdown",
   "metadata": {},
   "source": [
    "# Log example"
   ]
  },
  {
   "cell_type": "markdown",
   "metadata": {},
   "source": [
    "decoding "
   ]
  },
  {
   "cell_type": "code",
   "execution_count": null,
   "metadata": {},
   "outputs": [],
   "source": [
    "#create a dARK Transaction Decoder\n",
    "dc = DarkDecoder(dgw)"
   ]
  },
  {
   "cell_type": "code",
   "execution_count": null,
   "metadata": {},
   "outputs": [],
   "source": [
    "dc.extract_dark_data(tx_set1)"
   ]
  },
  {
   "cell_type": "markdown",
   "metadata": {},
   "source": [
    "dc.extract_dark_data(tx_set2)"
   ]
  },
  {
   "cell_type": "code",
   "execution_count": null,
   "metadata": {},
   "outputs": [],
   "source": []
  }
 ],
 "metadata": {
  "kernelspec": {
   "display_name": ".venv",
   "language": "python",
   "name": "python3"
  },
  "language_info": {
   "codemirror_mode": {
    "name": "ipython",
    "version": 3
   },
   "file_extension": ".py",
   "mimetype": "text/x-python",
   "name": "python",
   "nbconvert_exporter": "python",
   "pygments_lexer": "ipython3",
   "version": "3.10.10"
  },
  "orig_nbformat": 4
 },
 "nbformat": 4,
 "nbformat_minor": 2
}
