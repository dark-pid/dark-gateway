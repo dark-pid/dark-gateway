{
 "cells": [
  {
   "cell_type": "code",
   "execution_count": 1,
   "metadata": {},
   "outputs": [],
   "source": [
    "import os\n",
    "import sys\n",
    "import configparser\n",
    "\n",
    "#add dark to path\n",
    "src_code_dir = os.sep.join(os.path.abspath('').split(os.sep)[:-2])+os.sep\n",
    "sys.path.insert(0,src_code_dir)\n",
    "\n",
    "from dark.gateway import DarkGateway\n",
    "from dark import DarkMap\n",
    "from dark import DarkPid\n",
    "from dark.decoder import DarkDecoder"
   ]
  },
  {
   "cell_type": "markdown",
   "metadata": {},
   "source": [
    "load blockchain drivers, parameters and configurations"
   ]
  },
  {
   "cell_type": "code",
   "execution_count": 2,
   "metadata": {},
   "outputs": [
    {
     "data": {
      "text/plain": [
       "['D:\\\\workspace\\\\dark\\\\dARK\\\\deployed_contracts.ini']"
      ]
     },
     "execution_count": 2,
     "metadata": {},
     "output_type": "execute_result"
    }
   ],
   "source": [
    "PROJECT_ROOT = 'D:\\\\workspace\\\\dark\\\\dARK\\\\'\n",
    "config_file = os.path.join(PROJECT_ROOT,'config.ini')\n",
    "#blockchain config\n",
    "bc_config = configparser.ConfigParser()\n",
    "bc_config.read(config_file)\n",
    "#deployed contracts config\n",
    "deployed_contracts_config = configparser.ConfigParser()\n",
    "deployed_contracts_config.read(os.path.join(PROJECT_ROOT,'deployed_contracts.ini'))\n"
   ]
  },
  {
   "cell_type": "markdown",
   "metadata": {},
   "source": [
    "configure the blockchain access"
   ]
  },
  {
   "cell_type": "code",
   "execution_count": 3,
   "metadata": {},
   "outputs": [],
   "source": [
    "# Load Blockchain Drivers to the dARK GateWay\n",
    "dgw =  DarkGateway(bc_config,deployed_contracts_config)\n",
    "# create a map to interact with the Blockchain Smart Contracts\n",
    "dm = DarkMap(dgw)"
   ]
  },
  {
   "cell_type": "markdown",
   "metadata": {},
   "source": [
    "# Dark Blockchain Method Invocation"
   ]
  },
  {
   "cell_type": "markdown",
   "metadata": {},
   "source": [
    "## Sync Example"
   ]
  },
  {
   "cell_type": "markdown",
   "metadata": {},
   "source": [
    "requesting a pid"
   ]
  },
  {
   "cell_type": "code",
   "execution_count": null,
   "metadata": {},
   "outputs": [],
   "source": [
    "a_pid = dm.sync_request_pid()\n",
    "a_pid"
   ]
  },
  {
   "cell_type": "markdown",
   "metadata": {},
   "source": [
    "retrieving a pid"
   ]
  },
  {
   "cell_type": "code",
   "execution_count": null,
   "metadata": {},
   "outputs": [],
   "source": [
    "pid_python_object = dm.get_pid_by_ark(a_pid)\n",
    "pid_python_object.to_dict()"
   ]
  },
  {
   "cell_type": "code",
   "execution_count": null,
   "metadata": {},
   "outputs": [],
   "source": [
    "try:\n",
    "    dm.sync_add_external_pid(pid_python_object.pid_hash,'10.1016/j.is.2021.101826')\n",
    "    pid_python_object = dm.get_pid_by_ark(a_pid)\n",
    "    pid_python_object.to_dict()\n",
    "except ValueError:\n",
    "    print(\"NEED TO ADD A URL FIRST\")"
   ]
  },
  {
   "cell_type": "code",
   "execution_count": null,
   "metadata": {},
   "outputs": [],
   "source": [
    "dm.sync_set_url(pid_python_object.pid_hash,'https://www.sciencedirect.com/science/article/abs/pii/S0306437921000661')\n",
    "pid_python_object = dm.get_pid_by_ark(a_pid)\n",
    "pid_python_object.to_dict()"
   ]
  },
  {
   "cell_type": "code",
   "execution_count": null,
   "metadata": {},
   "outputs": [],
   "source": [
    "dm.sync_add_external_pid(pid_python_object.pid_hash,'10.1016/j.is.2021.101826')\n",
    "pid_python_object = dm.get_pid_by_ark(a_pid)\n",
    "pid_python_object.to_dict()"
   ]
  },
  {
   "cell_type": "code",
   "execution_count": null,
   "metadata": {},
   "outputs": [],
   "source": [
    "payload_data = { 'title' : 'Blockchain-based Privacy-Preserving Record Linkage: enhancing data privacy in an untrusted environment.' ,\n",
    "                 'author' : 'Thiago Nóbrega',\n",
    "                #  'type' : 'Article'\n",
    "            }\n",
    "\n",
    "tx_set3 = dm.sync_set_payload(pid_python_object.pid_hash,payload_data)"
   ]
  },
  {
   "cell_type": "code",
   "execution_count": null,
   "metadata": {},
   "outputs": [],
   "source": [
    "pid_python_object = dm.get_pid_by_ark(a_pid)\n",
    "pid_python_object.to_dict()"
   ]
  },
  {
   "cell_type": "markdown",
   "metadata": {},
   "source": [
    "## Assync Example"
   ]
  },
  {
   "cell_type": "markdown",
   "metadata": {},
   "source": [
    "pid request"
   ]
  },
  {
   "cell_type": "code",
   "execution_count": 4,
   "metadata": {},
   "outputs": [
    {
     "data": {
      "text/plain": [
       "'8033/fkwf30000000b7'"
      ]
     },
     "execution_count": 4,
     "metadata": {},
     "output_type": "execute_result"
    }
   ],
   "source": [
    "a_pid = dm.sync_request_pid()\n",
    "a_pid"
   ]
  },
  {
   "cell_type": "code",
   "execution_count": 5,
   "metadata": {},
   "outputs": [
    {
     "data": {
      "text/plain": [
       "{'pid_hash': HexBytes('0x1a19be729c3bc4ee4d1c47c330e7c82d99ad782c4f76358bc9d7c12656d85f6b'),\n",
       " 'ark': '8033/fkwf30000000b7',\n",
       " 'external_pid_list': [],\n",
       " 'external_url': '',\n",
       " 'payload': {},\n",
       " 'responsible': '0xf17f52151EbEF6C7334FAD080c5704D77216b732'}"
      ]
     },
     "execution_count": 5,
     "metadata": {},
     "output_type": "execute_result"
    }
   ],
   "source": [
    "pid_python_object = dm.get_pid_by_ark(a_pid)\n",
    "pid_python_object.to_dict()"
   ]
  },
  {
   "cell_type": "markdown",
   "metadata": {},
   "source": [
    "set"
   ]
  },
  {
   "cell_type": "code",
   "execution_count": 6,
   "metadata": {},
   "outputs": [
    {
     "data": {
      "text/plain": [
       "HexBytes('0x1a19be729c3bc4ee4d1c47c330e7c82d99ad782c4f76358bc9d7c12656d85f6b')"
      ]
     },
     "execution_count": 6,
     "metadata": {},
     "output_type": "execute_result"
    }
   ],
   "source": [
    "#retrieve the pid_hash\n",
    "pid_hash = pid_python_object.pid_hash\n",
    "pid_hash"
   ]
  },
  {
   "cell_type": "code",
   "execution_count": 7,
   "metadata": {},
   "outputs": [
    {
     "name": "stdout",
     "output_type": "stream",
     "text": [
      "8033/fkwf30000000b7 8033/fkwf30000000b7\n"
     ]
    }
   ],
   "source": [
    "#retive a ARK id from a pid_hash\n",
    "ark_to_search = dm.convert_pid_hash_to_ark(pid_hash)\n",
    "#notice that is the same of the original pid\n",
    "print(a_pid,ark_to_search)"
   ]
  },
  {
   "cell_type": "markdown",
   "metadata": {},
   "source": [
    "this transaction will fail because the dARK still a draft (because it do not have a url)..."
   ]
  },
  {
   "cell_type": "code",
   "execution_count": 8,
   "metadata": {},
   "outputs": [],
   "source": [
    "#now lets addd a url and remove the draft status from the pid\n",
    "tx_set2 = dm.async_set_url(pid_hash,'https://www.sciencedirect.com/science/article/abs/pii/S0169023X2300040X')\n"
   ]
  },
  {
   "cell_type": "code",
   "execution_count": 9,
   "metadata": {},
   "outputs": [
    {
     "data": {
      "text/plain": [
       "True"
      ]
     },
     "execution_count": 9,
     "metadata": {},
     "output_type": "execute_result"
    }
   ],
   "source": [
    "tx_status, tx_recipt = dgw.transaction_was_executed(tx_set2)\n",
    "tx_status"
   ]
  },
  {
   "cell_type": "code",
   "execution_count": 10,
   "metadata": {},
   "outputs": [],
   "source": [
    "tx_set1 = dm.async_set_external_pid(pid_hash,'10.1016/j.datak.2023.102180')\n",
    "# tx_status, tx_recipt = dgw.transaction_was_executed(tx_set1)\n",
    "# tx_status"
   ]
  },
  {
   "cell_type": "code",
   "execution_count": 11,
   "metadata": {},
   "outputs": [
    {
     "data": {
      "text/plain": [
       "True"
      ]
     },
     "execution_count": 11,
     "metadata": {},
     "output_type": "execute_result"
    }
   ],
   "source": [
    "tx_status, tx_recipt = dgw.transaction_was_executed(tx_set1)\n",
    "tx_status"
   ]
  },
  {
   "cell_type": "code",
   "execution_count": 12,
   "metadata": {},
   "outputs": [
    {
     "data": {
      "text/plain": [
       "{'pid_hash': HexBytes('0x1a19be729c3bc4ee4d1c47c330e7c82d99ad782c4f76358bc9d7c12656d85f6b'),\n",
       " 'ark': '8033/fkwf30000000b7',\n",
       " 'external_pid_list': [{'hash_id': '0x02c2de1c5f261eaca4c7891d95a05a4e4f4433e02bddc84dece4086caa965d6e',\n",
       "   'value': '10.1016/J.DATAK.2023.102180',\n",
       "   'owner:': '0xf17f52151EbEF6C7334FAD080c5704D77216b732'}],\n",
       " 'external_url': 'HTTPS://WWW.SCIENCEDIRECT.COM/SCIENCE/ARTICLE/ABS/PII/S0169023X2300040X',\n",
       " 'payload': {},\n",
       " 'responsible': '0xf17f52151EbEF6C7334FAD080c5704D77216b732'}"
      ]
     },
     "execution_count": 12,
     "metadata": {},
     "output_type": "execute_result"
    }
   ],
   "source": [
    "pid_python_object_2 = dm.get_pid_by_ark(a_pid).to_dict()\n",
    "# notice that there is a new PID\n",
    "pid_python_object_2"
   ]
  },
  {
   "cell_type": "code",
   "execution_count": 13,
   "metadata": {},
   "outputs": [
    {
     "data": {
      "text/plain": [
       "{'pid_hash': HexBytes('0x1a19be729c3bc4ee4d1c47c330e7c82d99ad782c4f76358bc9d7c12656d85f6b'),\n",
       " 'ark': '8033/fkwf30000000b7',\n",
       " 'external_pid_list': [{'hash_id': '0x02c2de1c5f261eaca4c7891d95a05a4e4f4433e02bddc84dece4086caa965d6e',\n",
       "   'value': '10.1016/J.DATAK.2023.102180',\n",
       "   'owner:': '0xf17f52151EbEF6C7334FAD080c5704D77216b732'}],\n",
       " 'external_url': 'HTTPS://WWW.SCIENCEDIRECT.COM/SCIENCE/ARTICLE/ABS/PII/S0169023X2300040X',\n",
       " 'payload': {},\n",
       " 'responsible': '0xf17f52151EbEF6C7334FAD080c5704D77216b732'}"
      ]
     },
     "execution_count": 13,
     "metadata": {},
     "output_type": "execute_result"
    }
   ],
   "source": [
    "pid_python_object_1 = dm.get_pid_by_ark(ark_to_search).to_dict()\n",
    "# notice that there is a new PID\n",
    "pid_python_object_1"
   ]
  },
  {
   "cell_type": "code",
   "execution_count": 15,
   "metadata": {},
   "outputs": [],
   "source": [
    "payload_data = { 'title' : 'Towards automatic Privacy-Preserving Record Linkage: A Transfer Learning based classification step' ,\n",
    "                 'author' : 'Thiago Nóbrega',\n",
    "                #  'type' : 'Article'\n",
    "            }\n",
    "\n",
    "tx_set3 = dm.async_set_payload(pid_hash,payload_data)"
   ]
  },
  {
   "cell_type": "code",
   "execution_count": 16,
   "metadata": {},
   "outputs": [
    {
     "data": {
      "text/plain": [
       "[HexBytes('0x337a988f2f0982ce85ac5d7d22a7d0e3c5efc08beb4c3d233ae446d189e91df8'),\n",
       " HexBytes('0x2faf5be2ef3e46d2b82f50f6ddba1b00c44a015fc089ea54b6df0b00518b978a')]"
      ]
     },
     "execution_count": 16,
     "metadata": {},
     "output_type": "execute_result"
    }
   ],
   "source": [
    "tx_set3"
   ]
  },
  {
   "cell_type": "code",
   "execution_count": 19,
   "metadata": {},
   "outputs": [
    {
     "name": "stdout",
     "output_type": "stream",
     "text": [
      "0x337a988f2f0982ce85ac5d7d22a7d0e3c5efc08beb4c3d233ae446d189e91df8 True\n",
      "0x2faf5be2ef3e46d2b82f50f6ddba1b00c44a015fc089ea54b6df0b00518b978a True\n"
     ]
    }
   ],
   "source": [
    "for tx in tx_set3:\n",
    "    tx_status, tx_recipt = dgw.transaction_was_executed(tx)\n",
    "    print(tx.hex(), tx_status)"
   ]
  },
  {
   "cell_type": "code",
   "execution_count": 20,
   "metadata": {},
   "outputs": [
    {
     "data": {
      "text/plain": [
       "{'pid_hash': HexBytes('0x1a19be729c3bc4ee4d1c47c330e7c82d99ad782c4f76358bc9d7c12656d85f6b'),\n",
       " 'ark': '8033/fkwf30000000b7',\n",
       " 'external_pid_list': [{'hash_id': '0x02c2de1c5f261eaca4c7891d95a05a4e4f4433e02bddc84dece4086caa965d6e',\n",
       "   'value': '10.1016/J.DATAK.2023.102180',\n",
       "   'owner:': '0xf17f52151EbEF6C7334FAD080c5704D77216b732'}],\n",
       " 'external_url': 'HTTPS://WWW.SCIENCEDIRECT.COM/SCIENCE/ARTICLE/ABS/PII/S0169023X2300040X',\n",
       " 'payload': {'title': 'Towards automatic Privacy-Preserving Record Linkage: A Transfer Learning based classification step',\n",
       "  'author': 'Thiago Nóbrega',\n",
       "  'format': '',\n",
       "  'publishdate': '',\n",
       "  'oai_identifier_str': ''},\n",
       " 'responsible': '0xf17f52151EbEF6C7334FAD080c5704D77216b732'}"
      ]
     },
     "execution_count": 20,
     "metadata": {},
     "output_type": "execute_result"
    }
   ],
   "source": [
    "pid_python_object_3 = dm.get_pid_by_ark(a_pid).to_dict()\n",
    "# notice that there is a new PID\n",
    "pid_python_object_3"
   ]
  },
  {
   "cell_type": "markdown",
   "metadata": {},
   "source": [
    "# Log example"
   ]
  },
  {
   "cell_type": "markdown",
   "metadata": {},
   "source": [
    "decoding "
   ]
  },
  {
   "cell_type": "code",
   "execution_count": null,
   "metadata": {},
   "outputs": [],
   "source": [
    "#create a dARK Transaction Decoder\n",
    "dc = DarkDecoder(dgw)"
   ]
  },
  {
   "cell_type": "code",
   "execution_count": null,
   "metadata": {},
   "outputs": [],
   "source": [
    "dc.extract_dark_data(tx_set1)"
   ]
  },
  {
   "cell_type": "markdown",
   "metadata": {},
   "source": [
    "dc.extract_dark_data(tx_set2)"
   ]
  },
  {
   "cell_type": "markdown",
   "metadata": {},
   "source": [
    "# Multiple User Example"
   ]
  },
  {
   "cell_type": "code",
   "execution_count": null,
   "metadata": {},
   "outputs": [],
   "source": [
    "PROJECT_ROOT = 'D:\\\\workspace\\\\dark\\\\dARK\\\\'\n",
    "config_file = os.path.join(PROJECT_ROOT,'config.ini')\n",
    "#blockchain config\n",
    "bc_config = configparser.ConfigParser()\n",
    "bc_config.read(config_file)\n",
    "#deployed contracts config\n",
    "deployed_contracts_config = configparser.ConfigParser()\n",
    "deployed_contracts_config.read(os.path.join(PROJECT_ROOT,'deployed_contracts.ini'))"
   ]
  },
  {
   "cell_type": "markdown",
   "metadata": {},
   "source": [
    "passing user key as argument to the DarkGateway"
   ]
  },
  {
   "cell_type": "code",
   "execution_count": null,
   "metadata": {},
   "outputs": [],
   "source": [
    "user_pk = '0xae6ae8e5ccbfb04590405997ee2d52d2b330726137b875053c36d94e974d162f'\n",
    "# Load Blockchain Drivers to the dARK GateWay\n",
    "dgw =  DarkGateway(bc_config,deployed_contracts_config,account_private_key=user_pk)\n",
    "# create a map to interact with the Blockchain Smart Contracts\n",
    "dm = DarkMap(dgw)"
   ]
  }
 ],
 "metadata": {
  "kernelspec": {
   "display_name": ".venv",
   "language": "python",
   "name": "python3"
  },
  "language_info": {
   "codemirror_mode": {
    "name": "ipython",
    "version": 3
   },
   "file_extension": ".py",
   "mimetype": "text/x-python",
   "name": "python",
   "nbconvert_exporter": "python",
   "pygments_lexer": "ipython3",
   "version": "3.10.10"
  },
  "orig_nbformat": 4
 },
 "nbformat": 4,
 "nbformat_minor": 2
}
