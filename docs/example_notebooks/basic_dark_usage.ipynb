{
 "cells": [
  {
   "cell_type": "code",
   "execution_count": 1,
   "metadata": {},
   "outputs": [],
   "source": [
    "import os\n",
    "import sys\n",
    "import configparser\n",
    "\n",
    "#add dark to path\n",
    "src_code_dir = os.sep.join(os.path.abspath('').split(os.sep)[:-2])+os.sep\n",
    "sys.path.insert(0,src_code_dir)\n",
    "\n",
    "from dark.gateway import DarkGateway\n",
    "from dark import DarkMap\n",
    "from dark import DarkPid\n",
    "from dark.decoder import DarkDecoder"
   ]
  },
  {
   "cell_type": "markdown",
   "metadata": {},
   "source": [
    "load blockchain drivers, parameters and configurations"
   ]
  },
  {
   "cell_type": "code",
   "execution_count": 2,
   "metadata": {},
   "outputs": [
    {
     "data": {
      "text/plain": [
       "['D:\\\\workspace\\\\dark\\\\dARK\\\\deployed_contracts.ini']"
      ]
     },
     "execution_count": 2,
     "metadata": {},
     "output_type": "execute_result"
    }
   ],
   "source": [
    "PROJECT_ROOT = 'D:\\\\workspace\\\\dark\\\\dARK\\\\'\n",
    "config_file = os.path.join(PROJECT_ROOT,'config.ini')\n",
    "#blockchain config\n",
    "bc_config = configparser.ConfigParser()\n",
    "bc_config.read(config_file)\n",
    "#deployed contracts config\n",
    "deployed_contracts_config = configparser.ConfigParser()\n",
    "deployed_contracts_config.read(os.path.join(PROJECT_ROOT,'deployed_contracts.ini'))\n"
   ]
  },
  {
   "cell_type": "markdown",
   "metadata": {},
   "source": [
    "configure the blockchain access"
   ]
  },
  {
   "cell_type": "code",
   "execution_count": 3,
   "metadata": {},
   "outputs": [],
   "source": [
    "# Load Blockchain Drivers to the dARK GateWay\n",
    "dgw =  DarkGateway(bc_config,deployed_contracts_config)\n",
    "# create a map to interact with the Blockchain Smart Contracts\n",
    "dm = DarkMap(dgw)"
   ]
  },
  {
   "cell_type": "markdown",
   "metadata": {},
   "source": [
    "# Dark Blockchain Method Invocation"
   ]
  },
  {
   "cell_type": "markdown",
   "metadata": {},
   "source": [
    "## Sync Example"
   ]
  },
  {
   "cell_type": "markdown",
   "metadata": {},
   "source": [
    "requesting a pid"
   ]
  },
  {
   "cell_type": "code",
   "execution_count": 4,
   "metadata": {},
   "outputs": [
    {
     "data": {
      "text/plain": [
       "'8033/fkwff3000000000001d'"
      ]
     },
     "execution_count": 4,
     "metadata": {},
     "output_type": "execute_result"
    }
   ],
   "source": [
    "a_pid = dm.sync_request_pid()\n",
    "a_pid"
   ]
  },
  {
   "cell_type": "markdown",
   "metadata": {},
   "source": [
    "retrieving a pid"
   ]
  },
  {
   "cell_type": "code",
   "execution_count": 5,
   "metadata": {},
   "outputs": [
    {
     "data": {
      "text/plain": [
       "{'pid_hash': HexBytes('0xd88e186094228d2b95fe5bd27550829fea8d4614e5ec821317fa97a5cbf4ba56'),\n",
       " 'ark': '8033/fkwff3000000000001d',\n",
       " 'externa_pid_list': [],\n",
       " 'externa_url': '',\n",
       " 'payload': '',\n",
       " 'responsible': '0xf17f52151EbEF6C7334FAD080c5704D77216b732'}"
      ]
     },
     "execution_count": 5,
     "metadata": {},
     "output_type": "execute_result"
    }
   ],
   "source": [
    "pid_python_object = dm.get_pid_by_ark(a_pid)\n",
    "pid_python_object.to_dict()"
   ]
  },
  {
   "cell_type": "code",
   "execution_count": 8,
   "metadata": {},
   "outputs": [
    {
     "data": {
      "text/plain": [
       "{'pid_hash': HexBytes('0xd88e186094228d2b95fe5bd27550829fea8d4614e5ec821317fa97a5cbf4ba56'),\n",
       " 'ark': '8033/fkwff3000000000001d',\n",
       " 'externa_pid_list': [{'hash_id': '0x32b24b313e62a21daec5e28a834966126b4deeabb630f4f68a4fa67b7aa75cfb',\n",
       "   'value': '000000',\n",
       "   'owner:': '0xf17f52151EbEF6C7334FAD080c5704D77216b732'}],\n",
       " 'externa_url': 'AAAA',\n",
       " 'payload': '',\n",
       " 'responsible': '0xf17f52151EbEF6C7334FAD080c5704D77216b732'}"
      ]
     },
     "execution_count": 8,
     "metadata": {},
     "output_type": "execute_result"
    }
   ],
   "source": [
    "dm.sync_add_external_pid(pid_python_object.pid_hash,'000000')\n",
    "pid_python_object = dm.get_pid_by_ark(a_pid)\n",
    "pid_python_object.to_dict()"
   ]
  },
  {
   "cell_type": "code",
   "execution_count": 7,
   "metadata": {},
   "outputs": [
    {
     "data": {
      "text/plain": [
       "{'pid_hash': HexBytes('0xd88e186094228d2b95fe5bd27550829fea8d4614e5ec821317fa97a5cbf4ba56'),\n",
       " 'ark': '8033/fkwff3000000000001d',\n",
       " 'externa_pid_list': [],\n",
       " 'externa_url': 'AAAA',\n",
       " 'payload': '',\n",
       " 'responsible': '0xf17f52151EbEF6C7334FAD080c5704D77216b732'}"
      ]
     },
     "execution_count": 7,
     "metadata": {},
     "output_type": "execute_result"
    }
   ],
   "source": [
    "dm.sync_set_url(pid_python_object.pid_hash,'aaaa')\n",
    "pid_python_object = dm.get_pid_by_ark(a_pid)\n",
    "pid_python_object.to_dict()"
   ]
  },
  {
   "cell_type": "code",
   "execution_count": null,
   "metadata": {},
   "outputs": [],
   "source": [
    "dm.sync_add_external_pid(pid_python_object.pid_hash,'000000')\n",
    "pid_python_object = dm.get_pid_by_ark(a_pid)\n",
    "pid_python_object.to_dict()"
   ]
  },
  {
   "cell_type": "code",
   "execution_count": 9,
   "metadata": {},
   "outputs": [
    {
     "data": {
      "text/plain": [
       "{'pid_hash': HexBytes('0xd88e186094228d2b95fe5bd27550829fea8d4614e5ec821317fa97a5cbf4ba56'),\n",
       " 'ark': '8033/fkwff3000000000001d',\n",
       " 'externa_pid_list': [{'hash_id': '0x32b24b313e62a21daec5e28a834966126b4deeabb630f4f68a4fa67b7aa75cfb',\n",
       "   'value': '000000',\n",
       "   'owner:': '0xf17f52151EbEF6C7334FAD080c5704D77216b732'}],\n",
       " 'externa_url': 'AAAA',\n",
       " 'payload': \"{'title': 'Blockchain-based Privacy-Preserving Record Linkage: enhancing data privacy in an untrusted environment.', 'author': 'Thiago Nóbrega', 'type': 'Article'}\",\n",
       " 'responsible': '0xf17f52151EbEF6C7334FAD080c5704D77216b732'}"
      ]
     },
     "execution_count": 9,
     "metadata": {},
     "output_type": "execute_result"
    }
   ],
   "source": [
    "payload_data = { 'title' : 'Blockchain-based Privacy-Preserving Record Linkage: enhancing data privacy in an untrusted environment.' ,\n",
    "                 'author' : 'Thiago Nóbrega',\n",
    "                 'type' : 'Article'\n",
    "            }\n",
    "\n",
    "tx_set3 = dm.sync_set_payload(pid_python_object.pid_hash,payload_data)\n",
    "pid_python_object = dm.get_pid_by_ark(a_pid)\n",
    "pid_python_object.to_dict()"
   ]
  },
  {
   "cell_type": "markdown",
   "metadata": {},
   "source": [
    "## Assync Example"
   ]
  },
  {
   "cell_type": "markdown",
   "metadata": {},
   "source": [
    "pid request"
   ]
  },
  {
   "cell_type": "code",
   "execution_count": 11,
   "metadata": {},
   "outputs": [
    {
     "data": {
      "text/plain": [
       "'8033/fkwff30000000000030'"
      ]
     },
     "execution_count": 11,
     "metadata": {},
     "output_type": "execute_result"
    }
   ],
   "source": [
    "a_pid = dm.sync_request_pid()\n",
    "a_pid"
   ]
  },
  {
   "cell_type": "code",
   "execution_count": 12,
   "metadata": {},
   "outputs": [
    {
     "data": {
      "text/plain": [
       "{'pid_hash': HexBytes('0x5b48f16aad8b8068dff4c3ebd35056eaf0be08da9777e502602abce7d1f7bd31'),\n",
       " 'ark': '8033/fkwff30000000000030',\n",
       " 'externa_pid_list': [],\n",
       " 'externa_url': '',\n",
       " 'payload': '',\n",
       " 'responsible': '0xf17f52151EbEF6C7334FAD080c5704D77216b732'}"
      ]
     },
     "execution_count": 12,
     "metadata": {},
     "output_type": "execute_result"
    }
   ],
   "source": [
    "pid_python_object = dm.get_pid_by_ark(a_pid)\n",
    "pid_python_object.to_dict()"
   ]
  },
  {
   "cell_type": "markdown",
   "metadata": {},
   "source": [
    "set"
   ]
  },
  {
   "cell_type": "code",
   "execution_count": 13,
   "metadata": {},
   "outputs": [
    {
     "data": {
      "text/plain": [
       "HexBytes('0x5b48f16aad8b8068dff4c3ebd35056eaf0be08da9777e502602abce7d1f7bd31')"
      ]
     },
     "execution_count": 13,
     "metadata": {},
     "output_type": "execute_result"
    }
   ],
   "source": [
    "#retrieve the pid_hash\n",
    "pid_hash = pid_python_object.pid_hash\n",
    "pid_hash"
   ]
  },
  {
   "cell_type": "code",
   "execution_count": 14,
   "metadata": {},
   "outputs": [
    {
     "name": "stdout",
     "output_type": "stream",
     "text": [
      "8033/fkwff30000000000030 8033/fkwff30000000000030\n"
     ]
    }
   ],
   "source": [
    "#retive a ARK id from a pid_hash\n",
    "ark_to_search = dm.convert_pid_hash_to_ark(pid_hash)\n",
    "#notice that is the same of the original pid\n",
    "print(a_pid,ark_to_search)"
   ]
  },
  {
   "cell_type": "markdown",
   "metadata": {},
   "source": [
    "this transaction will fail because the dARK still a draft (because it do not have a url)..."
   ]
  },
  {
   "cell_type": "code",
   "execution_count": 15,
   "metadata": {},
   "outputs": [
    {
     "ename": "ValueError",
     "evalue": "{'code': -32000, 'message': 'Execution reverted', 'data': '0x08c379a000000000000000000000000000000000000000000000000000000000000000200000000000000000000000000000000000000000000000000000000000000014546869732050494420697320612064726166742e000000000000000000000000'}",
     "output_type": "error",
     "traceback": [
      "\u001b[1;31m---------------------------------------------------------------------------\u001b[0m",
      "\u001b[1;31mValueError\u001b[0m                                Traceback (most recent call last)",
      "Cell \u001b[1;32mIn[15], line 1\u001b[0m\n\u001b[1;32m----> 1\u001b[0m tx_set1 \u001b[39m=\u001b[39m dm\u001b[39m.\u001b[39;49masync_set_external_pid(pid_hash,\u001b[39m'\u001b[39;49m\u001b[39m10.1016/j.is.2021.101826\u001b[39;49m\u001b[39m'\u001b[39;49m)\n\u001b[0;32m      2\u001b[0m tx_status, tx_recipt \u001b[39m=\u001b[39m dgw\u001b[39m.\u001b[39mtransaction_was_executed(tx_set1)\n\u001b[0;32m      3\u001b[0m tx_status\n",
      "File \u001b[1;32md:\\workspace\\dark\\dark-gateway\\dark\\modules.py:92\u001b[0m, in \u001b[0;36mDarkMap.async_set_external_pid\u001b[1;34m(self, hash_pid, external_pid)\u001b[0m\n\u001b[0;32m     90\u001b[0m \u001b[39mdef\u001b[39;00m \u001b[39masync_set_external_pid\u001b[39m(\u001b[39mself\u001b[39m,hash_pid: HexBytes,external_pid: \u001b[39mstr\u001b[39m):\n\u001b[0;32m     91\u001b[0m     \u001b[39massert\u001b[39;00m \u001b[39mtype\u001b[39m(hash_pid) \u001b[39m==\u001b[39m HexBytes, \u001b[39m\"\u001b[39m\u001b[39mhash_pid must be a HexBytes object\u001b[39m\u001b[39m\"\u001b[39m\n\u001b[1;32m---> 92\u001b[0m     signed_tx \u001b[39m=\u001b[39m \u001b[39mself\u001b[39;49m\u001b[39m.\u001b[39;49mgw\u001b[39m.\u001b[39;49msignTransaction(\u001b[39mself\u001b[39;49m\u001b[39m.\u001b[39;49mdpid_service , \u001b[39m'\u001b[39;49m\u001b[39maddExternalPid\u001b[39;49m\u001b[39m'\u001b[39;49m, hash_pid, \u001b[39m0\u001b[39;49m , external_pid)\n\u001b[0;32m     93\u001b[0m     r_tx \u001b[39m=\u001b[39m invoke_contract_async(\u001b[39mself\u001b[39m\u001b[39m.\u001b[39mgw,signed_tx)\n\u001b[0;32m     94\u001b[0m     \u001b[39mreturn\u001b[39;00m r_tx\n",
      "File \u001b[1;32md:\\workspace\\dark\\dark-gateway\\dark\\gateway\\core.py:132\u001b[0m, in \u001b[0;36mDarkGateway.signTransaction\u001b[1;34m(self, smart_contract, method, *args)\u001b[0m\n\u001b[0;32m    120\u001b[0m \u001b[39m\u001b[39m\u001b[39m\"\"\"\u001b[39;00m\n\u001b[0;32m    121\u001b[0m \u001b[39mSign a transaction with the specified smart contract and method.\u001b[39;00m\n\u001b[0;32m    122\u001b[0m \n\u001b[1;32m   (...)\u001b[0m\n\u001b[0;32m    129\u001b[0m \u001b[39m    Transaction: The signed transaction.\u001b[39;00m\n\u001b[0;32m    130\u001b[0m \u001b[39m\"\"\"\u001b[39;00m\n\u001b[0;32m    131\u001b[0m \u001b[39m#get the gas needed\u001b[39;00m\n\u001b[1;32m--> 132\u001b[0m est_gas \u001b[39m=\u001b[39m smart_contract\u001b[39m.\u001b[39;49mget_function_by_name(method)(\u001b[39m*\u001b[39;49margs)\u001b[39m.\u001b[39;49mestimateGas()\n\u001b[0;32m    133\u001b[0m tx_params \u001b[39m=\u001b[39m \u001b[39mself\u001b[39m\u001b[39m.\u001b[39mget_tx_params(est_gas)\n\u001b[0;32m    134\u001b[0m \u001b[39m#build the transaction\u001b[39;00m\n",
      "File \u001b[1;32md:\\workspace\\dark\\dark-gateway\\.venv\\lib\\site-packages\\web3\\contract.py:1039\u001b[0m, in \u001b[0;36mContractFunction.estimateGas\u001b[1;34m(self, transaction, block_identifier)\u001b[0m\n\u001b[0;32m   1034\u001b[0m     \u001b[39melse\u001b[39;00m:\n\u001b[0;32m   1035\u001b[0m         \u001b[39mraise\u001b[39;00m \u001b[39mValueError\u001b[39;00m(\n\u001b[0;32m   1036\u001b[0m             \u001b[39m\"\u001b[39m\u001b[39mPlease ensure that this contract instance has an address.\u001b[39m\u001b[39m\"\u001b[39m\n\u001b[0;32m   1037\u001b[0m         )\n\u001b[1;32m-> 1039\u001b[0m \u001b[39mreturn\u001b[39;00m estimate_gas_for_function(\n\u001b[0;32m   1040\u001b[0m     \u001b[39mself\u001b[39m\u001b[39m.\u001b[39maddress,\n\u001b[0;32m   1041\u001b[0m     \u001b[39mself\u001b[39m\u001b[39m.\u001b[39mweb3,\n\u001b[0;32m   1042\u001b[0m     \u001b[39mself\u001b[39m\u001b[39m.\u001b[39mfunction_identifier,\n\u001b[0;32m   1043\u001b[0m     estimate_gas_transaction,\n\u001b[0;32m   1044\u001b[0m     \u001b[39mself\u001b[39m\u001b[39m.\u001b[39mcontract_abi,\n\u001b[0;32m   1045\u001b[0m     \u001b[39mself\u001b[39m\u001b[39m.\u001b[39mabi,\n\u001b[0;32m   1046\u001b[0m     block_identifier,\n\u001b[0;32m   1047\u001b[0m     \u001b[39m*\u001b[39m\u001b[39mself\u001b[39m\u001b[39m.\u001b[39margs,\n\u001b[0;32m   1048\u001b[0m     \u001b[39m*\u001b[39m\u001b[39m*\u001b[39m\u001b[39mself\u001b[39m\u001b[39m.\u001b[39mkwargs\n\u001b[0;32m   1049\u001b[0m )\n",
      "File \u001b[1;32md:\\workspace\\dark\\dark-gateway\\.venv\\lib\\site-packages\\web3\\contract.py:1620\u001b[0m, in \u001b[0;36mestimate_gas_for_function\u001b[1;34m(address, web3, fn_identifier, transaction, contract_abi, fn_abi, block_identifier, *args, **kwargs)\u001b[0m\n\u001b[0;32m   1604\u001b[0m \u001b[39m\u001b[39m\u001b[39m\"\"\"Estimates gas cost a function call would take.\u001b[39;00m\n\u001b[0;32m   1605\u001b[0m \n\u001b[0;32m   1606\u001b[0m \u001b[39mDon't call this directly, instead use :meth:`Contract.estimateGas`\u001b[39;00m\n\u001b[0;32m   1607\u001b[0m \u001b[39mon your contract instance.\u001b[39;00m\n\u001b[0;32m   1608\u001b[0m \u001b[39m\"\"\"\u001b[39;00m\n\u001b[0;32m   1609\u001b[0m estimate_transaction \u001b[39m=\u001b[39m prepare_transaction(\n\u001b[0;32m   1610\u001b[0m     address,\n\u001b[0;32m   1611\u001b[0m     web3,\n\u001b[1;32m   (...)\u001b[0m\n\u001b[0;32m   1617\u001b[0m     fn_kwargs\u001b[39m=\u001b[39mkwargs,\n\u001b[0;32m   1618\u001b[0m )\n\u001b[1;32m-> 1620\u001b[0m \u001b[39mreturn\u001b[39;00m web3\u001b[39m.\u001b[39;49meth\u001b[39m.\u001b[39;49mestimate_gas(estimate_transaction, block_identifier)\n",
      "File \u001b[1;32md:\\workspace\\dark\\dark-gateway\\.venv\\lib\\site-packages\\web3\\eth.py:868\u001b[0m, in \u001b[0;36mEth.estimate_gas\u001b[1;34m(self, transaction, block_identifier)\u001b[0m\n\u001b[0;32m    863\u001b[0m \u001b[39mdef\u001b[39;00m \u001b[39mestimate_gas\u001b[39m(\n\u001b[0;32m    864\u001b[0m     \u001b[39mself\u001b[39m,\n\u001b[0;32m    865\u001b[0m     transaction: TxParams,\n\u001b[0;32m    866\u001b[0m     block_identifier: Optional[BlockIdentifier] \u001b[39m=\u001b[39m \u001b[39mNone\u001b[39;00m\n\u001b[0;32m    867\u001b[0m ) \u001b[39m-\u001b[39m\u001b[39m>\u001b[39m Wei:\n\u001b[1;32m--> 868\u001b[0m     \u001b[39mreturn\u001b[39;00m \u001b[39mself\u001b[39;49m\u001b[39m.\u001b[39;49m_estimate_gas(transaction, block_identifier)\n",
      "File \u001b[1;32md:\\workspace\\dark\\dark-gateway\\.venv\\lib\\site-packages\\web3\\module.py:57\u001b[0m, in \u001b[0;36mretrieve_blocking_method_call_fn.<locals>.caller\u001b[1;34m(*args, **kwargs)\u001b[0m\n\u001b[0;32m     55\u001b[0m     \u001b[39mreturn\u001b[39;00m LogFilter(eth_module\u001b[39m=\u001b[39mmodule, filter_id\u001b[39m=\u001b[39merr\u001b[39m.\u001b[39mfilter_id)\n\u001b[0;32m     56\u001b[0m result_formatters, error_formatters, null_result_formatters \u001b[39m=\u001b[39m response_formatters\n\u001b[1;32m---> 57\u001b[0m result \u001b[39m=\u001b[39m w3\u001b[39m.\u001b[39;49mmanager\u001b[39m.\u001b[39;49mrequest_blocking(method_str,\n\u001b[0;32m     58\u001b[0m                                      params,\n\u001b[0;32m     59\u001b[0m                                      error_formatters,\n\u001b[0;32m     60\u001b[0m                                      null_result_formatters)\n\u001b[0;32m     61\u001b[0m \u001b[39mreturn\u001b[39;00m apply_result_formatters(result_formatters, result)\n",
      "File \u001b[1;32md:\\workspace\\dark\\dark-gateway\\.venv\\lib\\site-packages\\web3\\manager.py:198\u001b[0m, in \u001b[0;36mRequestManager.request_blocking\u001b[1;34m(self, method, params, error_formatters, null_result_formatters)\u001b[0m\n\u001b[0;32m    194\u001b[0m \u001b[39m\u001b[39m\u001b[39m\"\"\"\u001b[39;00m\n\u001b[0;32m    195\u001b[0m \u001b[39mMake a synchronous request using the provider\u001b[39;00m\n\u001b[0;32m    196\u001b[0m \u001b[39m\"\"\"\u001b[39;00m\n\u001b[0;32m    197\u001b[0m response \u001b[39m=\u001b[39m \u001b[39mself\u001b[39m\u001b[39m.\u001b[39m_make_request(method, params)\n\u001b[1;32m--> 198\u001b[0m \u001b[39mreturn\u001b[39;00m \u001b[39mself\u001b[39;49m\u001b[39m.\u001b[39;49mformatted_response(response,\n\u001b[0;32m    199\u001b[0m                                params,\n\u001b[0;32m    200\u001b[0m                                error_formatters,\n\u001b[0;32m    201\u001b[0m                                null_result_formatters)\n",
      "File \u001b[1;32md:\\workspace\\dark\\dark-gateway\\.venv\\lib\\site-packages\\web3\\manager.py:171\u001b[0m, in \u001b[0;36mRequestManager.formatted_response\u001b[1;34m(response, params, error_formatters, null_result_formatters)\u001b[0m\n\u001b[0;32m    169\u001b[0m \u001b[39mif\u001b[39;00m \u001b[39m\"\u001b[39m\u001b[39merror\u001b[39m\u001b[39m\"\u001b[39m \u001b[39min\u001b[39;00m response:\n\u001b[0;32m    170\u001b[0m     apply_error_formatters(error_formatters, response)\n\u001b[1;32m--> 171\u001b[0m     \u001b[39mraise\u001b[39;00m \u001b[39mValueError\u001b[39;00m(response[\u001b[39m\"\u001b[39m\u001b[39merror\u001b[39m\u001b[39m\"\u001b[39m])\n\u001b[0;32m    172\u001b[0m \u001b[39m# NULL_RESPONSES includes None, so return False here as the default\u001b[39;00m\n\u001b[0;32m    173\u001b[0m \u001b[39m# so we don't apply the null_result_formatters if there is no 'result' key\u001b[39;00m\n\u001b[0;32m    174\u001b[0m \u001b[39melif\u001b[39;00m response\u001b[39m.\u001b[39mget(\u001b[39m'\u001b[39m\u001b[39mresult\u001b[39m\u001b[39m'\u001b[39m, \u001b[39mFalse\u001b[39;00m) \u001b[39min\u001b[39;00m NULL_RESPONSES:\n\u001b[0;32m    175\u001b[0m     \u001b[39m# null_result_formatters raise either a BlockNotFound\u001b[39;00m\n\u001b[0;32m    176\u001b[0m     \u001b[39m# or a TransactionNotFound error, depending on the method called\u001b[39;00m\n",
      "\u001b[1;31mValueError\u001b[0m: {'code': -32000, 'message': 'Execution reverted', 'data': '0x08c379a000000000000000000000000000000000000000000000000000000000000000200000000000000000000000000000000000000000000000000000000000000014546869732050494420697320612064726166742e000000000000000000000000'}"
     ]
    }
   ],
   "source": [
    "tx_set1 = dm.async_set_external_pid(pid_hash,'10.1016/j.is.2021.101826')\n",
    "tx_status, tx_recipt = dgw.transaction_was_executed(tx_set1)\n",
    "tx_status"
   ]
  },
  {
   "cell_type": "code",
   "execution_count": 16,
   "metadata": {},
   "outputs": [
    {
     "data": {
      "text/plain": [
       "False"
      ]
     },
     "execution_count": 16,
     "metadata": {},
     "output_type": "execute_result"
    }
   ],
   "source": [
    "#now lets addd a url and remove the draft status from the pid\n",
    "tx_set2 = dm.async_set_url(pid_hash,'http://www.uol.com')\n",
    "tx_status, tx_recipt = dgw.transaction_was_executed(tx_set2)\n",
    "tx_status"
   ]
  },
  {
   "cell_type": "code",
   "execution_count": 18,
   "metadata": {},
   "outputs": [
    {
     "data": {
      "text/plain": [
       "True"
      ]
     },
     "execution_count": 18,
     "metadata": {},
     "output_type": "execute_result"
    }
   ],
   "source": [
    "tx_status, tx_recipt = dgw.transaction_was_executed(tx_set2)\n",
    "tx_status"
   ]
  },
  {
   "cell_type": "code",
   "execution_count": 19,
   "metadata": {},
   "outputs": [
    {
     "data": {
      "text/plain": [
       "{'pid_hash': HexBytes('0x5b48f16aad8b8068dff4c3ebd35056eaf0be08da9777e502602abce7d1f7bd31'),\n",
       " 'ark': '8033/fkwff30000000000030',\n",
       " 'externa_pid_list': [],\n",
       " 'externa_url': 'HTTP://WWW.UOL.COM',\n",
       " 'payload': '',\n",
       " 'responsible': '0xf17f52151EbEF6C7334FAD080c5704D77216b732'}"
      ]
     },
     "execution_count": 19,
     "metadata": {},
     "output_type": "execute_result"
    }
   ],
   "source": [
    "pid_python_object_2 = dm.get_pid_by_ark(a_pid).to_dict()\n",
    "# notice that there is a new PID\n",
    "pid_python_object_2"
   ]
  },
  {
   "cell_type": "code",
   "execution_count": 20,
   "metadata": {},
   "outputs": [],
   "source": [
    "tx_set1 = dm.async_set_external_pid(pid_hash,'10.1016/j.is.2021.101826')"
   ]
  },
  {
   "cell_type": "code",
   "execution_count": 21,
   "metadata": {},
   "outputs": [
    {
     "data": {
      "text/plain": [
       "True"
      ]
     },
     "execution_count": 21,
     "metadata": {},
     "output_type": "execute_result"
    }
   ],
   "source": [
    "tx_status, tx_recipt = dgw.transaction_was_executed(tx_set1)\n",
    "tx_status"
   ]
  },
  {
   "cell_type": "code",
   "execution_count": 22,
   "metadata": {},
   "outputs": [
    {
     "data": {
      "text/plain": [
       "{'pid_hash': HexBytes('0x5b48f16aad8b8068dff4c3ebd35056eaf0be08da9777e502602abce7d1f7bd31'),\n",
       " 'ark': '8033/fkwff30000000000030',\n",
       " 'externa_pid_list': [{'hash_id': '0x6cd32058785840306ddaaf126d57999315739722ce57131dde41aa3690a8afdd',\n",
       "   'value': '10.1016/J.IS.2021.101826',\n",
       "   'owner:': '0xf17f52151EbEF6C7334FAD080c5704D77216b732'}],\n",
       " 'externa_url': 'HTTP://WWW.UOL.COM',\n",
       " 'payload': '',\n",
       " 'responsible': '0xf17f52151EbEF6C7334FAD080c5704D77216b732'}"
      ]
     },
     "execution_count": 22,
     "metadata": {},
     "output_type": "execute_result"
    }
   ],
   "source": [
    "pid_python_object_1 = dm.get_pid_by_ark(ark_to_search).to_dict()\n",
    "# notice that there is a new PID\n",
    "pid_python_object_1"
   ]
  },
  {
   "cell_type": "code",
   "execution_count": 23,
   "metadata": {},
   "outputs": [],
   "source": [
    "payload_data = { 'title' : 'Blockchain-based Privacy-Preserving Record Linkage: enhancing data privacy in an untrusted environment.' ,\n",
    "                 'author' : 'Thiago Nóbrega',\n",
    "                 'type' : 'Article'\n",
    "            }\n",
    "\n",
    "tx_set3 = dm.async_set_payload(pid_hash,payload_data)"
   ]
  },
  {
   "cell_type": "code",
   "execution_count": 24,
   "metadata": {},
   "outputs": [
    {
     "data": {
      "text/plain": [
       "True"
      ]
     },
     "execution_count": 24,
     "metadata": {},
     "output_type": "execute_result"
    }
   ],
   "source": [
    "tx_status, tx_recipt = dgw.transaction_was_executed(tx_set3)\n",
    "tx_status"
   ]
  },
  {
   "cell_type": "code",
   "execution_count": 25,
   "metadata": {},
   "outputs": [
    {
     "data": {
      "text/plain": [
       "{'pid_hash': HexBytes('0x5b48f16aad8b8068dff4c3ebd35056eaf0be08da9777e502602abce7d1f7bd31'),\n",
       " 'ark': '8033/fkwff30000000000030',\n",
       " 'externa_pid_list': [{'hash_id': '0x6cd32058785840306ddaaf126d57999315739722ce57131dde41aa3690a8afdd',\n",
       "   'value': '10.1016/J.IS.2021.101826',\n",
       "   'owner:': '0xf17f52151EbEF6C7334FAD080c5704D77216b732'}],\n",
       " 'externa_url': 'HTTP://WWW.UOL.COM',\n",
       " 'payload': \"{'title': 'Blockchain-based Privacy-Preserving Record Linkage: enhancing data privacy in an untrusted environment.', 'author': 'Thiago Nóbrega', 'type': 'Article'}\",\n",
       " 'responsible': '0xf17f52151EbEF6C7334FAD080c5704D77216b732'}"
      ]
     },
     "execution_count": 25,
     "metadata": {},
     "output_type": "execute_result"
    }
   ],
   "source": [
    "pid_python_object_3 = dm.get_pid_by_ark(a_pid).to_dict()\n",
    "# notice that there is a new PID\n",
    "pid_python_object_3"
   ]
  },
  {
   "cell_type": "markdown",
   "metadata": {},
   "source": [
    "# Log example"
   ]
  },
  {
   "cell_type": "markdown",
   "metadata": {},
   "source": [
    "decoding "
   ]
  },
  {
   "cell_type": "code",
   "execution_count": null,
   "metadata": {},
   "outputs": [],
   "source": [
    "#create a dARK Transaction Decoder\n",
    "dc = DarkDecoder(dgw)"
   ]
  },
  {
   "cell_type": "code",
   "execution_count": null,
   "metadata": {},
   "outputs": [],
   "source": [
    "dc.extract_dark_data(tx_set1)"
   ]
  },
  {
   "cell_type": "markdown",
   "metadata": {},
   "source": [
    "dc.extract_dark_data(tx_set2)"
   ]
  },
  {
   "cell_type": "code",
   "execution_count": null,
   "metadata": {},
   "outputs": [],
   "source": []
  }
 ],
 "metadata": {
  "kernelspec": {
   "display_name": ".venv",
   "language": "python",
   "name": "python3"
  },
  "language_info": {
   "codemirror_mode": {
    "name": "ipython",
    "version": 3
   },
   "file_extension": ".py",
   "mimetype": "text/x-python",
   "name": "python",
   "nbconvert_exporter": "python",
   "pygments_lexer": "ipython3",
   "version": "3.10.10"
  },
  "orig_nbformat": 4
 },
 "nbformat": 4,
 "nbformat_minor": 2
}
